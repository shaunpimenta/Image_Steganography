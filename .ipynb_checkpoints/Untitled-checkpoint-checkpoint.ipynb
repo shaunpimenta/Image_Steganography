{
 "cells": [
  {
   "cell_type": "code",
   "execution_count": 1,
   "id": "fad7d728",
   "metadata": {},
   "outputs": [],
   "source": [
    "import cv2\n",
    "import numpy as np\n",
    "from PIL import Image"
   ]
  },
  {
   "cell_type": "code",
   "execution_count": 2,
   "id": "487de8b4",
   "metadata": {},
   "outputs": [],
   "source": [
    "def data2binary(data):\n",
    "    if type(data) == str:\n",
    "        p = ''.join([format(ord(i), '08b')for i in data])\n",
    "    elif type(data) == bytes or type(data) == np.ndarray:\n",
    "        p = [format(i, '08b')for i in data]\n",
    "    return p"
   ]
  },
  {
   "cell_type": "code",
   "execution_count": 3,
   "id": "e38296d5",
   "metadata": {},
   "outputs": [],
   "source": [
    "def hidedata(img, data):\n",
    "    data += \"$$\"                                   #'$$'--> secrete key\n",
    "    d_index = 0\n",
    "    b_data = data2binary(data)\n",
    "    len_data = len(b_data)\n",
    "\n",
    " #iterate pixels from image and update pixel values\n",
    "\n",
    "    for value in img:\n",
    "        for pix in value:\n",
    "            r, g, b = data2binary(pix)\n",
    "            if d_index < len_data:\n",
    "                pix[0] = int(r[:-1] + b_data[d_index])\n",
    "                d_index += 1\n",
    "            if d_index < len_data:\n",
    "                pix[1] = int(g[:-1] + b_data[d_index])\n",
    "                d_index += 1\n",
    "            if d_index < len_data:\n",
    "                pix[2] = int(b[:-1] + b_data[d_index])\n",
    "                d_index += 1\n",
    "            if d_index >= len_data:\n",
    "                break\n",
    "    return img\n"
   ]
  },
  {
   "cell_type": "code",
   "execution_count": 4,
   "id": "265aaf6b",
   "metadata": {},
   "outputs": [],
   "source": [
    "def encode():\n",
    "    img_name = input(\"\\nenter image name:\")\n",
    "    image = cv2.imread(img_name)\n",
    "    img = Image.open(img_name, 'r')\n",
    "    w, h = img.size\n",
    "    data = input(\"\\nenter message:\")\n",
    "    if len(data) == 0:\n",
    "        raise ValueError(\"Empty data\")\n",
    "    enc_img = input(\"\\nenter encoded image name:\")\n",
    "    enc_data = hidedata(image, data)\n",
    "    cv2.imwrite(enc_img, enc_data)\n",
    "    img1 = Image.open(enc_img, 'r')\n",
    "    img1 = img1.resize((w, h),Image.Resampling.LANCZOS)\n",
    "    # optimize with 65% quality\n",
    "    if w != h:\n",
    "        img1.save(enc_img, optimize=True, quality=65)\n",
    "    else:\n",
    "        img1.save(enc_img)\n"
   ]
  },
  {
   "cell_type": "code",
   "execution_count": 5,
   "id": "554d1d01",
   "metadata": {},
   "outputs": [],
   "source": [
    "# decoding\n",
    "\n",
    "def find_data(img):\n",
    "    bin_data = \"\"\n",
    "    for value in img:\n",
    "        for pix in value:\n",
    "            r, g, b = data2binary(pix)\n",
    "            bin_data += r[-1]\n",
    "            bin_data += g[-1]\n",
    "            bin_data += b[-1]\n",
    "\n",
    "    all_bytes = [bin_data[i: i + 8] for i in range(0, len(bin_data), 8)]\n",
    "\n",
    "    readable_data = \"\"\n",
    "    for x in all_bytes:\n",
    "        readable_data += chr(int(x, 2))\n",
    "        if readable_data[-2:] == \"$$\":\n",
    "            break\n",
    "    return readable_data[:-2]"
   ]
  },
  {
   "cell_type": "code",
   "execution_count": 6,
   "id": "b9a71d13",
   "metadata": {},
   "outputs": [],
   "source": [
    "def decode():\n",
    "    img_name = input(\"\\nEnter Image name : \")\n",
    "    image = cv2.imread(img_name)\n",
    "    img=Image.open(img_name,'r')\n",
    "    msg = find_data(image)\n",
    "    return msg\n"
   ]
  },
  {
   "cell_type": "code",
   "execution_count": 7,
   "id": "d6993c37",
   "metadata": {},
   "outputs": [
    {
     "name": "stdout",
     "output_type": "stream",
     "text": [
      "\n",
      "Image stegnography\n",
      "       1.encode\n",
      "       2.decode\n",
      "\n",
      " enter your choice:1\n",
      "\n",
      "enter image name:camera.jpg\n",
      "\n",
      "enter message:test 1234 23nsa hello hi namaste\n",
      "\n",
      "enter encoded image name:camerae.jpg\n"
     ]
    },
    {
     "ename": "AttributeError",
     "evalue": "module 'PIL.Image' has no attribute 'Resampling'",
     "output_type": "error",
     "traceback": [
      "\u001b[1;31m---------------------------------------------------------------------------\u001b[0m",
      "\u001b[1;31mAttributeError\u001b[0m                            Traceback (most recent call last)",
      "\u001b[1;32m~\\AppData\\Local\\Temp/ipykernel_5604/2726642220.py\u001b[0m in \u001b[0;36m<module>\u001b[1;34m\u001b[0m\n\u001b[0;32m     14\u001b[0m \u001b[1;33m\u001b[0m\u001b[0m\n\u001b[0;32m     15\u001b[0m \u001b[1;33m\u001b[0m\u001b[0m\n\u001b[1;32m---> 16\u001b[1;33m \u001b[0mstegnography\u001b[0m\u001b[1;33m(\u001b[0m\u001b[1;33m)\u001b[0m\u001b[1;33m\u001b[0m\u001b[1;33m\u001b[0m\u001b[0m\n\u001b[0m",
      "\u001b[1;32m~\\AppData\\Local\\Temp/ipykernel_5604/2726642220.py\u001b[0m in \u001b[0;36mstegnography\u001b[1;34m()\u001b[0m\n\u001b[0;32m      7\u001b[0m        \u001b[0mu_in\u001b[0m \u001b[1;33m=\u001b[0m \u001b[0mint\u001b[0m\u001b[1;33m(\u001b[0m\u001b[0minput\u001b[0m\u001b[1;33m(\u001b[0m\u001b[1;34m\"\\n enter your choice:\"\u001b[0m\u001b[1;33m)\u001b[0m\u001b[1;33m)\u001b[0m\u001b[1;33m\u001b[0m\u001b[1;33m\u001b[0m\u001b[0m\n\u001b[0;32m      8\u001b[0m        \u001b[1;32mif\u001b[0m \u001b[0mu_in\u001b[0m \u001b[1;33m==\u001b[0m \u001b[1;36m1\u001b[0m\u001b[1;33m:\u001b[0m\u001b[1;33m\u001b[0m\u001b[1;33m\u001b[0m\u001b[0m\n\u001b[1;32m----> 9\u001b[1;33m            \u001b[0mencode\u001b[0m\u001b[1;33m(\u001b[0m\u001b[1;33m)\u001b[0m\u001b[1;33m\u001b[0m\u001b[1;33m\u001b[0m\u001b[0m\n\u001b[0m\u001b[0;32m     10\u001b[0m        \u001b[1;32melse\u001b[0m\u001b[1;33m:\u001b[0m\u001b[1;33m\u001b[0m\u001b[1;33m\u001b[0m\u001b[0m\n\u001b[0;32m     11\u001b[0m            \u001b[0mans\u001b[0m \u001b[1;33m=\u001b[0m \u001b[0mdecode\u001b[0m\u001b[1;33m(\u001b[0m\u001b[1;33m)\u001b[0m\u001b[1;33m\u001b[0m\u001b[1;33m\u001b[0m\u001b[0m\n",
      "\u001b[1;32m~\\AppData\\Local\\Temp/ipykernel_5604/3332634651.py\u001b[0m in \u001b[0;36mencode\u001b[1;34m()\u001b[0m\n\u001b[0;32m     11\u001b[0m     \u001b[0mcv2\u001b[0m\u001b[1;33m.\u001b[0m\u001b[0mimwrite\u001b[0m\u001b[1;33m(\u001b[0m\u001b[0menc_img\u001b[0m\u001b[1;33m,\u001b[0m \u001b[0menc_data\u001b[0m\u001b[1;33m)\u001b[0m\u001b[1;33m\u001b[0m\u001b[1;33m\u001b[0m\u001b[0m\n\u001b[0;32m     12\u001b[0m     \u001b[0mimg1\u001b[0m \u001b[1;33m=\u001b[0m \u001b[0mImage\u001b[0m\u001b[1;33m.\u001b[0m\u001b[0mopen\u001b[0m\u001b[1;33m(\u001b[0m\u001b[0menc_img\u001b[0m\u001b[1;33m,\u001b[0m \u001b[1;34m'r'\u001b[0m\u001b[1;33m)\u001b[0m\u001b[1;33m\u001b[0m\u001b[1;33m\u001b[0m\u001b[0m\n\u001b[1;32m---> 13\u001b[1;33m     \u001b[0mimg1\u001b[0m \u001b[1;33m=\u001b[0m \u001b[0mimg1\u001b[0m\u001b[1;33m.\u001b[0m\u001b[0mresize\u001b[0m\u001b[1;33m(\u001b[0m\u001b[1;33m(\u001b[0m\u001b[0mw\u001b[0m\u001b[1;33m,\u001b[0m \u001b[0mh\u001b[0m\u001b[1;33m)\u001b[0m\u001b[1;33m,\u001b[0m\u001b[0mImage\u001b[0m\u001b[1;33m.\u001b[0m\u001b[0mResampling\u001b[0m\u001b[1;33m.\u001b[0m\u001b[0mLANCZOS\u001b[0m\u001b[1;33m)\u001b[0m\u001b[1;33m\u001b[0m\u001b[1;33m\u001b[0m\u001b[0m\n\u001b[0m\u001b[0;32m     14\u001b[0m     \u001b[1;31m# optimize with 65% quality\u001b[0m\u001b[1;33m\u001b[0m\u001b[1;33m\u001b[0m\u001b[0m\n\u001b[0;32m     15\u001b[0m     \u001b[1;32mif\u001b[0m \u001b[0mw\u001b[0m \u001b[1;33m!=\u001b[0m \u001b[0mh\u001b[0m\u001b[1;33m:\u001b[0m\u001b[1;33m\u001b[0m\u001b[1;33m\u001b[0m\u001b[0m\n",
      "\u001b[1;32m~\\anaconda3\\lib\\site-packages\\PIL\\Image.py\u001b[0m in \u001b[0;36m__getattr__\u001b[1;34m(name)\u001b[0m\n\u001b[0;32m     75\u001b[0m                 )\n\u001b[0;32m     76\u001b[0m                 \u001b[1;32mreturn\u001b[0m \u001b[0mcategories\u001b[0m\u001b[1;33m[\u001b[0m\u001b[0mname\u001b[0m\u001b[1;33m]\u001b[0m\u001b[1;33m\u001b[0m\u001b[1;33m\u001b[0m\u001b[0m\n\u001b[1;32m---> 77\u001b[1;33m         \u001b[1;32mraise\u001b[0m \u001b[0mAttributeError\u001b[0m\u001b[1;33m(\u001b[0m\u001b[1;34mf\"module '{__name__}' has no attribute '{name}'\"\u001b[0m\u001b[1;33m)\u001b[0m\u001b[1;33m\u001b[0m\u001b[1;33m\u001b[0m\u001b[0m\n\u001b[0m\u001b[0;32m     78\u001b[0m \u001b[1;33m\u001b[0m\u001b[0m\n\u001b[0;32m     79\u001b[0m \u001b[1;33m\u001b[0m\u001b[0m\n",
      "\u001b[1;31mAttributeError\u001b[0m: module 'PIL.Image' has no attribute 'Resampling'"
     ]
    }
   ],
   "source": [
    "def stegnography():\n",
    "    x = 1\n",
    "    while x != 0:\n",
    "       print('''\\nImage stegnography\n",
    "       1.encode\n",
    "       2.decode''')\n",
    "       u_in = int(input(\"\\n enter your choice:\"))\n",
    "       if u_in == 1:\n",
    "           encode()\n",
    "       else:\n",
    "           ans = decode()\n",
    "           print(\"\\n your message:\"+ans)\n",
    "       x = int(input(\"\\nenter 1 for continue otherwise 0:\"))\n",
    "\n",
    "\n",
    "stegnography()"
   ]
  },
  {
   "cell_type": "markdown",
   "id": "793e5394",
   "metadata": {},
   "source": []
  },
  {
   "cell_type": "code",
   "execution_count": null,
   "id": "2ea6839c",
   "metadata": {},
   "outputs": [],
   "source": []
  },
  {
   "cell_type": "code",
   "execution_count": null,
   "id": "61d484bc",
   "metadata": {},
   "outputs": [],
   "source": []
  }
 ],
 "metadata": {
  "kernelspec": {
   "display_name": "Python 3 (ipykernel)",
   "language": "python",
   "name": "python3"
  },
  "language_info": {
   "codemirror_mode": {
    "name": "ipython",
    "version": 3
   },
   "file_extension": ".py",
   "mimetype": "text/x-python",
   "name": "python",
   "nbconvert_exporter": "python",
   "pygments_lexer": "ipython3",
   "version": "3.9.7"
  }
 },
 "nbformat": 4,
 "nbformat_minor": 5
}
